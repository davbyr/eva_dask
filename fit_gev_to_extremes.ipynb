{
 "cells": [
  {
   "cell_type": "code",
   "execution_count": 1,
   "id": "1fd749d3-18a8-4813-832d-84ea379305f9",
   "metadata": {},
   "outputs": [],
   "source": [
    "from dask.distributed import Client\n",
    "import dask\n",
    "import dask.array as da\n",
    "from dask import delayed\n",
    "import xarray as xr\n",
    "import numpy as np\n",
    "import matplotlib.pyplot as plt\n",
    "import pyextremes as pe\n",
    "from pyextremes import EVA\n",
    "import glob\n",
    "import pandas as pd\n",
    "from datetime import timedelta\n",
    "import datetime\n",
    "from datetime import datetime as dt\n",
    "from scipy.stats import genextreme as gev\n",
    "from scipy.stats import genpareto as gp\n",
    "import scipy.stats as stats\n",
    "client = Client(\"tcp://127.0.0.1:43523\")"
   ]
  },
  {
   "cell_type": "code",
   "execution_count": 3,
   "id": "d26319b3-e5d6-44a5-a57a-2a4266e5f3f0",
   "metadata": {},
   "outputs": [],
   "source": [
    "input_file = '/home/davidbyrne/disks/ssd200/test.nc'\n",
    "#dataset = xr.open_zarr(input_file).chunk({'year':-1})\n",
    "dataset = xr.open_dataset(input_file, chunks={})\n",
    "data = dataset.Twb.load().data\n",
    "data = da.from_array(data, chunks=[20, 20, -1])"
   ]
  },
  {
   "cell_type": "code",
   "execution_count": 4,
   "id": "db5362b8-a99b-4e25-a932-c0fab89b006d",
   "metadata": {},
   "outputs": [],
   "source": [
    "def fit_gev_model(chunk):\n",
    "    n_r, n_c, n_t = chunk.shape\n",
    "    n_pts = n_r*n_c\n",
    "    chunkF = chunk.reshape((n_pts, n_t))\n",
    "    params = np.zeros((n_pts, 4))*np.nan\n",
    "    \n",
    "    for pt in range(n_pts):\n",
    "        extremes = chunkF[pt, :]\n",
    "        extremes = extremes[~np.isnan(extremes)]\n",
    "        if len(extremes) < 50:\n",
    "            continue\n",
    "        ff = gev.fit(extremes)\n",
    "        params[pt, :3] = ff\n",
    "        \n",
    "        # Kolmogorov-Smirnov test for fitted distribution\n",
    "        ks = stats.kstest(extremes, 'genextreme', args=ff)\n",
    "        params[pt, 3] = ks[1]\n",
    "\n",
    "    return params.reshape((n_r, n_c, 4))\n",
    "        \n",
    "def AIC(data, model, params):\n",
    "    k = len(params)\n",
    "    logLik = np.sum( model.logpdf(data, params[0], params[1], params[2]) ) \n",
    "    return 2*k - 2*logLik"
   ]
  },
  {
   "cell_type": "code",
   "execution_count": 5,
   "id": "ff5761c2-d6de-4943-8f5e-ea54b7cb89b0",
   "metadata": {},
   "outputs": [
    {
     "name": "stdout",
     "output_type": "stream",
     "text": [
      "CPU times: user 986 ms, sys: 257 ms, total: 1.24 s\n",
      "Wall time: 24min 8s\n"
     ]
    }
   ],
   "source": [
    "%%time\n",
    "mapped = da.map_blocks(fit_gev_model, data)\n",
    "mapped = mapped.compute()\n",
    "ds = xr.Dataset(data_vars=dict(\n",
    "                    parameters = (['lat','lon','param'], mapped)))\n",
    "ds.to_netcdf('/home/davidbyrne/disks/ssd200/test2.nc')"
   ]
  }
 ],
 "metadata": {
  "kernelspec": {
   "display_name": "Python 3 (ipykernel)",
   "language": "python",
   "name": "python3"
  },
  "language_info": {
   "codemirror_mode": {
    "name": "ipython",
    "version": 3
   },
   "file_extension": ".py",
   "mimetype": "text/x-python",
   "name": "python",
   "nbconvert_exporter": "python",
   "pygments_lexer": "ipython3",
   "version": "3.10.5"
  }
 },
 "nbformat": 4,
 "nbformat_minor": 5
}
