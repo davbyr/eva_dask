{
 "cells": [
  {
   "cell_type": "code",
   "execution_count": 4,
   "id": "7c7f1ccc-cca5-48b8-96d6-a112b4cf293d",
   "metadata": {},
   "outputs": [],
   "source": [
    "\n",
    "\n",
    "from dask.distributed import Client, LocalCluster\n",
    "import xarray as xr\n",
    "import sys\n",
    "from datetime import datetime\n",
    "import glob\n",
    "import os\n",
    "import pandas as pd"
   ]
  },
  {
   "cell_type": "code",
   "execution_count": 5,
   "id": "f5bd5616-1248-4ffa-9229-0cbf74699964",
   "metadata": {},
   "outputs": [],
   "source": [
    "#~~~~~~~~~~~~   INPUTS   ~~~~~~~~~~~~~~~~#\n",
    "# directory to input file(s) and file name(s)\n",
    "# input_files must be a list even if its just one file\n",
    "# use glob.glob() to use a wildcard.\n",
    "input_file   = glob.glob('/home/davidbyrne/disks/ssd200/wetbulb/netcdf/3deg/*')\n",
    "\n",
    "# Define output directory for zarr file.\n",
    "output_dir = '/home/davidbyrne/disks/ssd200/wetbulb/zarr/3deg'\n",
    "\n",
    "# How to chunk the data spatially. \n",
    "spatial_chunks = {'lat':50, 'lon':50, 'time':-1}\n",
    "\n",
    "# If a dask cluster already exists, you can provide it's IP.\n",
    "# Otherwise, one will be created for you.\n",
    "use_existing_ip = True\n",
    "scheduler_ip = 'tcp://127.0.0.1:45103'\n",
    "\n",
    "# Number of Dask workers to use\n",
    "n_workers = 4"
   ]
  },
  {
   "cell_type": "code",
   "execution_count": 6,
   "id": "18597837-5a61-48d6-9bb0-3d8d10b40828",
   "metadata": {},
   "outputs": [],
   "source": [
    "#~~~~~~~~~~~~   RUN   ~~~~~~~~~~~~~~~~#\n",
    "\n",
    "# Determine if its just one or multiple files\n",
    "if type(input_file) == list:\n",
    "    n_files = len(input_file)\n",
    "else:\n",
    "    input_file = [input_file]\n",
    "    n_files = 1\n",
    "\n",
    "# Start cluster and connect a client\n",
    "if use_existing_ip:\n",
    "    client = Client(scheduler_ip)\n",
    "else:\n",
    "    cluster = LocalCluster(n_workers=n_workers)\n",
    "    client = Client(cluster)\n",
    "\n",
    "# If only one file, just convert straight to zarr\n",
    "if n_files == 1:\n",
    "    dataset = xr.open_dataset(input_file[0], chunks=spatial_chunks)\n",
    "    output_base = os.path.basename(input_file[0])[:-3]\n",
    "    dataset.to_zarr( os.path.join(output_dir, output_base) )\n",
    "    \n",
    "# If multiple files, loop over filenames and do them one by one, using delayed.\n",
    "else:\n",
    "    dataset_list = [xr.open_dataset(fn, chunks=spatial_chunks) for fn in input_file]\n",
    "    for dd in range(n_files):\n",
    "        \n",
    "        # Get original file name for output\n",
    "        output_base = os.path.basename(input_file[dd])[:-3]\n",
    "        \n",
    "        # Get a delayed zarr function to compute later\n",
    "        dataset_list[dd].to_zarr( os.path.join(output_dir, output_base))\n",
    "\n",
    "# Close cluster and client\n",
    "client.close()\n",
    "\n",
    "if not use_existing_ip:\n",
    "    cluster.close()"
   ]
  }
 ],
 "metadata": {
  "kernelspec": {
   "display_name": "Python 3 (ipykernel)",
   "language": "python",
   "name": "python3"
  },
  "language_info": {
   "codemirror_mode": {
    "name": "ipython",
    "version": 3
   },
   "file_extension": ".py",
   "mimetype": "text/x-python",
   "name": "python",
   "nbconvert_exporter": "python",
   "pygments_lexer": "ipython3",
   "version": "3.10.5"
  }
 },
 "nbformat": 4,
 "nbformat_minor": 5
}
