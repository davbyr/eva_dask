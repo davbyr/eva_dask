{
 "cells": [
  {
   "cell_type": "code",
   "execution_count": null,
   "id": "8285c537-f312-4f6b-aef4-d0ab4d7f943a",
   "metadata": {},
   "outputs": [],
   "source": [
    "import xarray as xr\n",
    "from dask.distributed import Client, LocalCluster\n",
    "from dask import delayed\n",
    "import matplotlib.pyplot as plt\n",
    "import pandas as pd\n",
    "from pyextremes import EVA\n",
    "from datetime import datetime, timedelta\n",
    "import numpy as np\n",
    "import glob\n",
    "import os"
   ]
  },
  {
   "cell_type": "code",
   "execution_count": null,
   "id": "275a28e7-6a6d-489a-89e0-f761187834b1",
   "metadata": {},
   "outputs": [],
   "source": [
    "client = Client(\"tcp://127.0.0.1:34885\")"
   ]
  },
  {
   "cell_type": "code",
   "execution_count": null,
   "id": "f0ac51a5-cfc1-4684-89de-6e1b7a156268",
   "metadata": {},
   "outputs": [],
   "source": [
    "input_file = glob.glob(\"/home/davidbyrne/disks/ssd200/wetbulb/zarr/1deg/*\")\n",
    "output_dir = '/home/davidbyrne/disks/ssd200/wetbulb/analysis/annual_maxima/1deg'\n",
    "n_files = len(input_file)\n",
    "\n",
    "dataset_list = [ xr.open_zarr(fn) for fn in input_file ]\n",
    "\n",
    "delayed_list = []\n",
    "\n",
    "for dd in range(n_files):\n",
    "    \n",
    "    dataset = dataset_list[dd]\n",
    "    \n",
    "    start_year = int(input_file[dd][-9:-5])\n",
    "    start_date = datetime(start_year, 1, 1)\n",
    "    end_date   = start_date + timedelta(days = dataset.dims['time'] - 1)\n",
    "    time = pd.date_range(start_date, end_date, freq='1D')\n",
    "    \n",
    "    dataset['time'] = time\n",
    "    \n",
    "    grouped = dataset.groupby('time.year')\n",
    "    grouped_max = grouped.nanmax(dim='time')\n",
    "    \n",
    "    filebase = os.path.basename(input_file[dd])\n",
    "    \n",
    "    grouped_max.to_zarr( os.path.join(output_dir, filebase) )\n",
    "    \n",
    "client.compute(delayed_list)\n",
    "\n",
    "client.close()"
   ]
  }
 ],
 "metadata": {
  "kernelspec": {
   "display_name": "Python 3 (ipykernel)",
   "language": "python",
   "name": "python3"
  },
  "language_info": {
   "codemirror_mode": {
    "name": "ipython",
    "version": 3
   },
   "file_extension": ".py",
   "mimetype": "text/x-python",
   "name": "python",
   "nbconvert_exporter": "python",
   "pygments_lexer": "ipython3",
   "version": "3.10.5"
  }
 },
 "nbformat": 4,
 "nbformat_minor": 5
}
