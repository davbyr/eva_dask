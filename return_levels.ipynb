{
 "cells": [
  {
   "cell_type": "code",
   "execution_count": 39,
   "id": "f0364082-7d47-4bc3-a74d-cf36694576fc",
   "metadata": {},
   "outputs": [],
   "source": [
    "import plotly.express as pe\n",
    "import xarray as xr\n",
    "import dask.array as da\n",
    "from dask.distributed import Client, LocalCluster\n",
    "import scipy.stats as stats\n",
    "import numpy as np"
   ]
  },
  {
   "cell_type": "code",
   "execution_count": 40,
   "id": "aeda6eed-c156-45bb-8336-285b63e36c40",
   "metadata": {},
   "outputs": [],
   "source": [
    "client = Client(\"tcp://127.0.0.1:42989\")"
   ]
  },
  {
   "cell_type": "code",
   "execution_count": 105,
   "id": "657e796a-9bd9-401f-8010-7c6017024bdb",
   "metadata": {},
   "outputs": [],
   "source": [
    "file_params = '/home/davidbyrne/disks/ssd200/wetbulb/analysis/gevfit_bm_1deg.nc'\n",
    "file_extremes = '/home/davidbyrne/disks/ssd200/test.nc'"
   ]
  },
  {
   "cell_type": "code",
   "execution_count": 106,
   "id": "5173cc42-7dfd-4240-ad61-10863d87a5cc",
   "metadata": {},
   "outputs": [],
   "source": [
    "ds_params = xr.open_dataset(file_params).transpose('param','lat','lon')\n",
    "params = da.from_array( ds_params['test_data'].data )"
   ]
  },
  {
   "cell_type": "code",
   "execution_count": 107,
   "id": "0500057a-95a4-43c6-b9df-3538683b9f6c",
   "metadata": {},
   "outputs": [],
   "source": [
    "def return_levels(params, distribution, return_periods):\n",
    "    return_periods = np.array(return_periods)\n",
    "    params = np.array(params)\n",
    "    return_levels = distribution.isf(1/return_periods, params[0], params[1], params[2])\n",
    "    return return_levels\n",
    "\n",
    "def return_levels_chunk(chunk, distribution, return_periods):\n",
    "    n_p, n_r, n_c = chunk.shape\n",
    "    chunkF = chunk.reshape((n_p, n_r*n_c))\n",
    "    n_pts = n_r*n_c\n",
    "    n_rp = len(return_periods)\n",
    "    out_array = np.zeros((n_rp, n_pts))*np.nan\n",
    "    \n",
    "    for pt in range(n_pts):\n",
    "        params = chunkF[:, pt]\n",
    "        if len(params)>2:\n",
    "            rl = return_levels(params[:3], distribution, return_periods)\n",
    "            out_array[ :, pt] = rl\n",
    "        \n",
    "    return out_array.reshape((n_rp, n_r, n_c))\n",
    "\n",
    "def return_periods(params, distribution, return_levels, rpmax=100, omit_above=200):\n",
    "    return_levels = np.array(return_levels)\n",
    "    params = np.array(params)\n",
    "    return_periods = 1-distribution.cdf(return_levels, params[0], params[1], params[2])\n",
    "    #return_periods[return_periods==0] = np.nan\n",
    "    #return_periods = 1/return_periods\n",
    "    #return_periods[return_periods>omit_above] = np.nan\n",
    "    #return_periods[return_periods>rpmax] = rpmax\n",
    "    return return_periods\n",
    "\n",
    "def return_periods_chunk(chunk, distribution, return_levels):\n",
    "    n_p, n_r, n_c= chunk.shape\n",
    "    print(chunk.shape)\n",
    "    chunkF = chunk.reshape((n_p, n_r*n_c))\n",
    "    n_pts = n_r*n_c\n",
    "    n_rp = len(return_levels)\n",
    "    out_array = np.zeros((n_rp, n_pts))*np.nan\n",
    "    \n",
    "    for pt in range(n_pts):\n",
    "        params = chunkF[:, pt]\n",
    "        if len(params)>2:\n",
    "            rp = return_periods(params[:3], distribution, return_levels)\n",
    "            out_array[:, pt] = rp\n",
    "        \n",
    "    return out_array.reshape((n_rp, n_r, n_c))"
   ]
  },
  {
   "cell_type": "code",
   "execution_count": 108,
   "id": "fe6a43b4-7f31-4a20-b781-795a7c4ab400",
   "metadata": {},
   "outputs": [],
   "source": [
    "params = params.rechunk([-1, 50, 50])"
   ]
  },
  {
   "cell_type": "code",
   "execution_count": 103,
   "id": "333a81aa-6148-4e61-b38d-e980312fa143",
   "metadata": {},
   "outputs": [
    {
     "name": "stdout",
     "output_type": "stream",
     "text": [
      "CPU times: user 31.9 ms, sys: 973 µs, total: 32.9 ms\n",
      "Wall time: 5.01 s\n"
     ]
    }
   ],
   "source": [
    "%%time\n",
    "rl = da.map_blocks(return_levels_chunk, params, stats.genextreme, [1,2,5,10,50,100,200])\n",
    "rl = rl.compute()\n",
    "rp = da.map_blocks(return_periods_chunk, params, stats.genextreme, [20, 25, 30, 32,35])\n",
    "rp = rp.compute()"
   ]
  },
  {
   "cell_type": "code",
   "execution_count": 100,
   "id": "f1bdf510-74fa-4cf8-a48d-6d79683c64b6",
   "metadata": {},
   "outputs": [
    {
     "name": "stdout",
     "output_type": "stream",
     "text": [
      "(0, 0, 0)\n",
      "(1, 1, 1)\n",
      "CPU times: user 19.2 ms, sys: 11.9 ms, total: 31.1 ms\n",
      "Wall time: 4.87 s\n"
     ]
    }
   ],
   "source": [
    "ds_out = xr.Dataset( coords )"
   ]
  }
 ],
 "metadata": {
  "kernelspec": {
   "display_name": "Python 3 (ipykernel)",
   "language": "python",
   "name": "python3"
  },
  "language_info": {
   "codemirror_mode": {
    "name": "ipython",
    "version": 3
   },
   "file_extension": ".py",
   "mimetype": "text/x-python",
   "name": "python",
   "nbconvert_exporter": "python",
   "pygments_lexer": "ipython3",
   "version": "3.10.5"
  }
 },
 "nbformat": 4,
 "nbformat_minor": 5
}
